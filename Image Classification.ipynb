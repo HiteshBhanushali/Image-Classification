{
  "nbformat": 4,
  "nbformat_minor": 0,
  "metadata": {
    "colab": {
      "provenance": [],
      "authorship_tag": "ABX9TyNgXFpLs3iUwDfqBKvR68k7",
      "include_colab_link": true
    },
    "kernelspec": {
      "name": "python3",
      "display_name": "Python 3"
    },
    "language_info": {
      "name": "python"
    }
  },
  "cells": [
    {
      "cell_type": "markdown",
      "metadata": {
        "id": "view-in-github",
        "colab_type": "text"
      },
      "source": [
        "<a href=\"https://colab.research.google.com/github/HiteshBhanushali/Image-Classification/blob/main/Image%20Classification.ipynb\" target=\"_parent\"><img src=\"https://colab.research.google.com/assets/colab-badge.svg\" alt=\"Open In Colab\"/></a>"
      ]
    },
    {
      "cell_type": "code",
      "execution_count": 5,
      "metadata": {
        "colab": {
          "base_uri": "https://localhost:8080/"
        },
        "id": "B4rMYcsNqguS",
        "outputId": "25242a76-0999-4602-809c-cff3cf942027"
      },
      "outputs": [
        {
          "output_type": "stream",
          "name": "stdout",
          "text": [
            "Original training images shape: (50000, 32, 32, 3)\n",
            "Original test images shape: (10000, 32, 32, 3)\n",
            "Filtered training images shape: (10000, 32, 32, 3)\n",
            "Filtered test images shape: (2000, 32, 32, 3)\n",
            "Epoch 1/10\n",
            "\u001b[1m313/313\u001b[0m \u001b[32m━━━━━━━━━━━━━━━━━━━━\u001b[0m\u001b[37m\u001b[0m \u001b[1m17s\u001b[0m 49ms/step - accuracy: 0.5725 - loss: 0.6743 - val_accuracy: 0.6700 - val_loss: 0.6073\n",
            "Epoch 2/10\n",
            "\u001b[1m313/313\u001b[0m \u001b[32m━━━━━━━━━━━━━━━━━━━━\u001b[0m\u001b[37m\u001b[0m \u001b[1m20s\u001b[0m 47ms/step - accuracy: 0.6875 - loss: 0.5951 - val_accuracy: 0.7155 - val_loss: 0.5470\n",
            "Epoch 3/10\n",
            "\u001b[1m313/313\u001b[0m \u001b[32m━━━━━━━━━━━━━━━━━━━━\u001b[0m\u001b[37m\u001b[0m \u001b[1m20s\u001b[0m 47ms/step - accuracy: 0.7312 - loss: 0.5375 - val_accuracy: 0.7235 - val_loss: 0.5278\n",
            "Epoch 4/10\n",
            "\u001b[1m313/313\u001b[0m \u001b[32m━━━━━━━━━━━━━━━━━━━━\u001b[0m\u001b[37m\u001b[0m \u001b[1m22s\u001b[0m 51ms/step - accuracy: 0.7388 - loss: 0.5146 - val_accuracy: 0.7550 - val_loss: 0.5054\n",
            "Epoch 5/10\n",
            "\u001b[1m313/313\u001b[0m \u001b[32m━━━━━━━━━━━━━━━━━━━━\u001b[0m\u001b[37m\u001b[0m \u001b[1m14s\u001b[0m 45ms/step - accuracy: 0.7562 - loss: 0.4843 - val_accuracy: 0.7345 - val_loss: 0.5201\n",
            "Epoch 6/10\n",
            "\u001b[1m313/313\u001b[0m \u001b[32m━━━━━━━━━━━━━━━━━━━━\u001b[0m\u001b[37m\u001b[0m \u001b[1m21s\u001b[0m 46ms/step - accuracy: 0.7817 - loss: 0.4562 - val_accuracy: 0.7475 - val_loss: 0.5044\n",
            "Epoch 7/10\n",
            "\u001b[1m313/313\u001b[0m \u001b[32m━━━━━━━━━━━━━━━━━━━━\u001b[0m\u001b[37m\u001b[0m \u001b[1m21s\u001b[0m 46ms/step - accuracy: 0.8117 - loss: 0.4068 - val_accuracy: 0.7595 - val_loss: 0.4895\n",
            "Epoch 8/10\n",
            "\u001b[1m313/313\u001b[0m \u001b[32m━━━━━━━━━━━━━━━━━━━━\u001b[0m\u001b[37m\u001b[0m \u001b[1m21s\u001b[0m 47ms/step - accuracy: 0.8248 - loss: 0.3781 - val_accuracy: 0.7790 - val_loss: 0.4782\n",
            "Epoch 9/10\n",
            "\u001b[1m313/313\u001b[0m \u001b[32m━━━━━━━━━━━━━━━━━━━━\u001b[0m\u001b[37m\u001b[0m \u001b[1m15s\u001b[0m 46ms/step - accuracy: 0.8482 - loss: 0.3396 - val_accuracy: 0.7765 - val_loss: 0.4813\n",
            "Epoch 10/10\n",
            "\u001b[1m313/313\u001b[0m \u001b[32m━━━━━━━━━━━━━━━━━━━━\u001b[0m\u001b[37m\u001b[0m \u001b[1m14s\u001b[0m 46ms/step - accuracy: 0.8669 - loss: 0.3015 - val_accuracy: 0.7725 - val_loss: 0.5445\n",
            "\u001b[1m63/63\u001b[0m \u001b[32m━━━━━━━━━━━━━━━━━━━━\u001b[0m\u001b[37m\u001b[0m \u001b[1m1s\u001b[0m 12ms/step - accuracy: 0.7833 - loss: 0.5348\n",
            "Test accuracy: 0.77\n"
          ]
        }
      ],
      "source": [
        "# !pip install tensorflow\n",
        "# Step 1: Import Libraries\n",
        "import tensorflow as tf\n",
        "from tensorflow.keras import datasets, layers, models\n",
        "import numpy as np\n",
        "\n",
        "# Step 2: Load and Preprocess Data\n",
        "# Use the CIFAR-10 dataset, which includes images of cats and dogs\n",
        "(train_images, train_labels), (test_images, test_labels) = datasets.cifar10.load_data()\n",
        "\n",
        "# Print the original shape of the images\n",
        "print(f\"Original training images shape: {train_images.shape}\")\n",
        "print(f\"Original test images shape: {test_images.shape}\")\n",
        "\n",
        "# Filter the dataset for cats (label=3) and dogs (label=5)\n",
        "train_filter = np.isin(train_labels, [3, 5]).flatten()\n",
        "test_filter = np.isin(test_labels, [3, 5]).flatten()\n",
        "\n",
        "train_images, train_labels = train_images[train_filter], train_labels[train_filter]\n",
        "test_images, test_labels = test_images[test_filter], test_labels[test_filter]\n",
        "\n",
        "# Print the shape after filtering\n",
        "print(f\"Filtered training images shape: {train_images.shape}\")\n",
        "print(f\"Filtered test images shape: {test_images.shape}\")\n",
        "\n",
        "# Normalize pixel values to be between 0 and 1\n",
        "train_images, test_images = train_images / 255.0, test_images / 255.0\n",
        "\n",
        "# Convert labels to binary (cat=0, dog=1)\n",
        "train_labels = np.where(train_labels == 3, 0, 1)\n",
        "test_labels = np.where(test_labels == 3, 0, 1)\n",
        "\n",
        "# Step 3: Build CNN Model\n",
        "model = models.Sequential([\n",
        "    layers.Conv2D(32, (3, 3), activation='relu', input_shape=(32, 32, 3)),\n",
        "    layers.MaxPooling2D((2, 2)),\n",
        "    layers.Conv2D(64, (3, 3), activation='relu'),\n",
        "    layers.MaxPooling2D((2, 2)),\n",
        "    layers.Conv2D(64, (3, 3), activation='relu'),\n",
        "    layers.Flatten(),\n",
        "    layers.Dense(64, activation='relu'),\n",
        "    layers.Dense(1, activation='sigmoid')  # Binary classification output\n",
        "])\n",
        "\n",
        "# Step 4: Compile and Train Model\n",
        "model.compile(optimizer='adam',\n",
        "              loss='binary_crossentropy',\n",
        "              metrics=['accuracy'])\n",
        "\n",
        "model.fit(train_images, train_labels, epochs=10, validation_data=(test_images, test_labels))\n",
        "\n",
        "# Step 5: Evaluate Model\n",
        "test_loss, test_acc = model.evaluate(test_images, test_labels)\n",
        "print(f\"Test accuracy: {test_acc:.2f}\")\n",
        "\n"
      ]
    },
    {
      "cell_type": "code",
      "source": [
        "import matplotlib.pyplot as plt\n",
        "from tensorflow.keras.preprocessing import image as keras_image\n",
        "# Step 6: Predict and Print Label for a New Image\n",
        "def predict_image_label(model, image_path):\n",
        "    \"\"\"\n",
        "    Predict the label for a single image and print it.\n",
        "\n",
        "    Parameters:\n",
        "    model (tf.keras.Model): Trained CNN model.\n",
        "    image_path (str): Path to the image to predict.\n",
        "    \"\"\"\n",
        "    # Load and preprocess the image\n",
        "    img = keras_image.load_img(image_path, target_size=(32, 32))\n",
        "    img_array = keras_image.img_to_array(img)\n",
        "    img_array = img_array / 255.0  # Normalize pixel values\n",
        "    img_array = np.expand_dims(img_array, axis=0)  # Add batch dimension\n",
        "\n",
        "    # Predict\n",
        "    prediction = model.predict(img_array)\n",
        "    label = \"Dog\" if prediction[0] > 0.5 else \"Cat\"\n",
        "\n",
        "    # Display the image and prediction\n",
        "    plt.imshow(img)\n",
        "    plt.title(f\"Predicted Label: {label}\")\n",
        "    plt.axis('off')\n",
        "    plt.show()\n",
        "\n",
        "# Example usage: predict label for your own image\n",
        "image_path = '/content/cat4.jpeg'  # Replace with the path to your image\n",
        "predict_image_label(model, image_path)"
      ],
      "metadata": {
        "colab": {
          "base_uri": "https://localhost:8080/",
          "height": 445
        },
        "id": "PBEb4nbiuHmF",
        "outputId": "27cf631b-276e-45ed-c47c-a85569281bf0"
      },
      "execution_count": 16,
      "outputs": [
        {
          "output_type": "stream",
          "name": "stdout",
          "text": [
            "\u001b[1m1/1\u001b[0m \u001b[32m━━━━━━━━━━━━━━━━━━━━\u001b[0m\u001b[37m\u001b[0m \u001b[1m0s\u001b[0m 21ms/step\n"
          ]
        },
        {
          "output_type": "display_data",
          "data": {
            "text/plain": [
              "<Figure size 640x480 with 1 Axes>"
            ],
            "image/png": "[encoded data removed]"
          },
          "metadata": {}
        }
      ]
    }
  ]
}